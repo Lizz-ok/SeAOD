{
  "cells": [
    {
      "cell_type": "markdown",
      "id": "fifteen-sailing",
      "metadata": {
        "id": "fifteen-sailing"
      },
      "source": [
        "# Лабораторная работа №1\n",
        "## Выполнил студент группы БСТ2105 Питецкая Елизавета Тимофеевна"
      ]
    },
    {
      "cell_type": "markdown",
      "id": "particular-syndicate",
      "metadata": {
        "id": "particular-syndicate"
      },
      "source": [
        "### Оглавление\n",
        "1. [Задание 1](#Задание-№1)\n",
        "2. [Задание 2](#Задание-№2)\n",
        "3. [Задание 3](#Задание-№3)\n",
        "4. [Вывод](#Вывод)"
      ]
    },
    {
      "cell_type": "markdown",
      "id": "arctic-stocks",
      "metadata": {
        "id": "arctic-stocks"
      },
      "source": [
        "### Задание №1\n",
        "<i> Вызвать функцию print() и передать туда строку Hello, World! </i>"
      ]
    },
    {
      "cell_type": "code",
      "execution_count": null,
      "id": "caring-truck",
      "metadata": {
        "scrolled": true,
        "id": "caring-truck",
        "colab": {
          "base_uri": "https://localhost:8080/"
        },
        "outputId": "9d6bbab7-ccdf-47b7-8284-fe1052551ad2"
      },
      "outputs": [
        {
          "output_type": "stream",
          "name": "stdout",
          "text": [
            "Hello, World!\n"
          ]
        }
      ],
      "source": [
        "print(\"Hello, World!\")"
      ]
    },
    {
      "cell_type": "markdown",
      "id": "maritime-conversation",
      "metadata": {
        "id": "maritime-conversation"
      },
      "source": [
        "### Задание №2\n",
        "Написать генератор случайных матриц(многомерных), который принимает\n",
        "опциональные параметры <b>m</b>, <b>n</b>, <b>min_limit</b>, <b>max_limit</b>, где <b>m</b> и <b>n</b> указывают размер\n",
        "матрицы, а <b>min_lim</b> и <b>max_lim</b> - минимальное и максимальное значение для\n",
        "генерируемого числа."
      ]
    },
    {
      "cell_type": "code",
      "execution_count": 4,
      "id": "built-contact",
      "metadata": {
        "id": "built-contact"
      },
      "outputs": [],
      "source": [
        "import random\n",
        "import time"
      ]
    },
    {
      "cell_type": "code",
      "execution_count": 2,
      "id": "alert-charm",
      "metadata": {
        "id": "alert-charm",
        "outputId": "81dd1fa6-fd95-42ef-9b4a-bc498febfd07",
        "colab": {
          "base_uri": "https://localhost:8080/"
        }
      },
      "outputs": [
        {
          "output_type": "stream",
          "name": "stdout",
          "text": [
            "3\n",
            "5\n",
            "1\n",
            "9\n",
            "[[2, 3, 2], [5, 1, 4], [7, 7, 9], [2, 9, 7], [4, 3, 4]]\n"
          ]
        }
      ],
      "source": [
        "from random import randint\n",
        "user_m = int(input())\n",
        "user_n = int(input())\n",
        "user_min_limit = int(input())\n",
        "user_max_limit = int(input())\n",
        "user_m, user_n, user_min_limit, user_max_limit\n",
        "arrey= [[0 for i in range(user_m)] for j in range(user_n)]\n",
        "for i in range(user_n):\n",
        "    for j in range(user_m):\n",
        "        arrey[i][j] = randint(user_min_limit, user_max_limit)\n",
        "print(arrey)"
      ]
    },
    {
      "cell_type": "markdown",
      "id": "catholic-roots",
      "metadata": {
        "id": "catholic-roots"
      },
      "source": [
        "### Задание №3\n",
        "Реализовать методы сортировки строк числовой матрицы в соответствии с\n",
        "заданием. Оценить время работы каждого алгоритма сортировки и сравнить его со\n",
        "временем стандартной функции сортировки. Испытания проводить на сгенерированных\n",
        "матрицах."
      ]
    },
    {
      "cell_type": "code",
      "execution_count": 6,
      "id": "opposed-creature",
      "metadata": {
        "id": "opposed-creature"
      },
      "outputs": [],
      "source": [
        "import copy\n",
        "import random\n",
        "import time"
      ]
    },
    {
      "cell_type": "code",
      "execution_count": 9,
      "id": "cleared-anniversary",
      "metadata": {
        "id": "cleared-anniversary",
        "outputId": "6c92ccc0-a1c6-4bc3-8df0-1e8eca83b0a9",
        "colab": {
          "base_uri": "https://localhost:8080/"
        }
      },
      "outputs": [
        {
          "output_type": "stream",
          "name": "stdout",
          "text": [
            "[[2, 2, 3], [1, 4, 5], [7, 7, 9], [2, 7, 9], [3, 4, 4]]\n",
            "--- 6 ms ---\n"
          ]
        }
      ],
      "source": [
        "# Сортировка выбором.\n",
        "# Берётся срез массива, в котором минимальный элемент переносят в самый левый угол,\n",
        "# после чего срез уменьшается и цикл повторяется.\n",
        "start_time = time.time()\n",
        "#TODO\n",
        "\n",
        "def selection_sort(arrey):\n",
        "    for i in range(len(arrey)):\n",
        "        min = i\n",
        "        for j in range(i + 1, len(arrey)):\n",
        "            if arrey[j] < arrey[min]:\n",
        "                min = j\n",
        "        arrey[min], arrey[i] = arrey[i], arrey[min]\n",
        "    return arrey\n",
        "for row in range(len(arrey)):\n",
        "     selection_sort(arrey[row])\n",
        "print(arrey)\n",
        "\n",
        "print(\"--- {0} ms ---\".format(round((time.time() - start_time)*1000)))"
      ]
    },
    {
      "cell_type": "code",
      "execution_count": 10,
      "id": "roman-silly",
      "metadata": {
        "scrolled": true,
        "id": "roman-silly",
        "outputId": "b00530d6-94c1-4e4f-98e3-ed46838a89e3",
        "colab": {
          "base_uri": "https://localhost:8080/"
        }
      },
      "outputs": [
        {
          "output_type": "stream",
          "name": "stdout",
          "text": [
            "[[2, 2, 3], [1, 4, 5], [7, 7, 9], [2, 7, 9], [3, 4, 4]]\n",
            "--- 17497 ms ---\n"
          ]
        }
      ],
      "source": [
        "# Сортировка вставкой.\n",
        "\n",
        "def insertion_sort(mas):\n",
        "    for i in range(len(mas)):\n",
        "        cursor = mas[i]\n",
        "        pos = i\n",
        "        while pos > 0 and mas[pos - 1] > cursor:\n",
        "            # Меняем местами число, продвигая по списку\n",
        "            mas[pos] = mas[pos - 1]\n",
        "            pos = pos - 1\n",
        "        # Остановимся и сделаем последний обмен\n",
        "        mas[pos] = cursor\n",
        "    return mas\n",
        "\n",
        "for row in range(len(arrey)):\n",
        "     insertion_sort(arrey[row])\n",
        "\n",
        "print(arrey)\n",
        "\n",
        "#TODO\n",
        "print(\"--- {0} ms ---\".format(round((time.time() - start_time)*1000)))"
      ]
    },
    {
      "cell_type": "code",
      "execution_count": 11,
      "id": "vital-implementation",
      "metadata": {
        "id": "vital-implementation",
        "outputId": "f9dd8d03-802c-47cc-e82b-9ab830176a9a",
        "colab": {
          "base_uri": "https://localhost:8080/"
        }
      },
      "outputs": [
        {
          "output_type": "stream",
          "name": "stdout",
          "text": [
            "[[2, 2, 3], [1, 4, 5], [7, 7, 9], [2, 7, 9], [3, 4, 4]]\n",
            "--- 27837 ms ---\n"
          ]
        }
      ],
      "source": [
        "# Сортировка обменом. || Сортировка пузырьком.\n",
        "\n",
        "def bubble(mas):\n",
        "        for i in range(len(mas) - 1):\n",
        "            if mas[i] > mas[i+1]:\n",
        "                mas[i], mas[i+1] = mas[i+1], mas[i]\n",
        "        return mas\n",
        "\n",
        "for row in range(len(arrey)):\n",
        "     bubble(arrey[row])\n",
        "\n",
        "print(arrey)\n",
        "  \n",
        "print(\"--- {0} ms ---\".format(round((time.time() - start_time)*1000)))"
      ]
    },
    {
      "cell_type": "code",
      "execution_count": 12,
      "id": "veterinary-glory",
      "metadata": {
        "id": "veterinary-glory",
        "outputId": "a63acebc-cae7-4277-e931-10e039967e55",
        "colab": {
          "base_uri": "https://localhost:8080/"
        }
      },
      "outputs": [
        {
          "output_type": "stream",
          "name": "stdout",
          "text": [
            "[[2, 2, 3], [1, 4, 5], [7, 7, 9], [2, 7, 9], [3, 4, 4]]\n",
            "--- 37567 ms ---\n"
          ]
        }
      ],
      "source": [
        "# Сортировка Шелла.\n",
        "def shell_sort(mas):\n",
        "    gap = len(mas) // 2\n",
        "\n",
        "    while gap > 0:\n",
        "        for value in range(gap, len(mas)):\n",
        "            current_value = mas[value]\n",
        "            position = value\n",
        "\n",
        "            while position >= gap and mas[position - gap] > current_value:\n",
        "                mas[position] = mas[position - gap]\n",
        "                position -= gap\n",
        "                mas[position] = current_value\n",
        "\n",
        "        gap //= 2\n",
        "    return mas\n",
        "for row in range(len(arrey)):\n",
        "     shell_sort(arrey[row])\n",
        "\n",
        "print(arrey)\n",
        "print(\"--- {0} ms ---\".format(round((time.time() - start_time)*1000)))"
      ]
    },
    {
      "cell_type": "code",
      "execution_count": 13,
      "id": "correct-chaos",
      "metadata": {
        "id": "correct-chaos",
        "outputId": "eea343b9-bb58-4f1f-e32e-ce6155dd565a",
        "colab": {
          "base_uri": "https://localhost:8080/"
        }
      },
      "outputs": [
        {
          "output_type": "stream",
          "name": "stdout",
          "text": [
            "[[2, 2, 3], [1, 4, 5], [7, 7, 9], [2, 7, 9], [3, 4, 4]]\n",
            "--- 47396 ms ---\n"
          ]
        }
      ],
      "source": [
        "# Быстрая сортировка.\n",
        "\n",
        "def quick_sort(mas):\n",
        "    quick_sort_helper(mas, 0, len(mas) - 1)\n",
        "    return mas\n",
        "\n",
        "\n",
        "def quick_sort_helper(mas, low, high):\n",
        "    if low < high:\n",
        "        split_point = partition(mas, low, high)\n",
        "        quick_sort_helper(mas, low, split_point - 1)\n",
        "        quick_sort_helper(mas, split_point + 1, high)\n",
        "\n",
        "\n",
        "def partition(mas, low, high):\n",
        "    pivot_value = mas[low]\n",
        "    left_mark = low + 1\n",
        "    right_mark = high\n",
        "    done = False\n",
        "\n",
        "    while not done:\n",
        "        while left_mark <= right_mark and mas[left_mark] <= pivot_value:\n",
        "            left_mark += 1\n",
        "        while right_mark >= left_mark and mas[right_mark] >= pivot_value:\n",
        "            right_mark -= 1\n",
        "\n",
        "        if right_mark < left_mark:\n",
        "            done = True\n",
        "        else:\n",
        "            mas[left_mark], mas[right_mark] = mas[right_mark], mas[left_mark]\n",
        "\n",
        "    mas[low], mas[right_mark] = mas[right_mark], mas[low]\n",
        "    return right_mark\n",
        "for row in range(len(arrey)):\n",
        "     quick_sort(arrey[row])\n",
        "\n",
        "print(arrey)\n",
        "print(\"--- {0} ms ---\".format(round((time.time() - start_time)*1000)))\n",
        "    "
      ]
    },
    {
      "cell_type": "code",
      "execution_count": 14,
      "id": "french-czech",
      "metadata": {
        "colab": {
          "base_uri": "https://localhost:8080/"
        },
        "id": "french-czech",
        "outputId": "6d9b4b53-cd73-418d-c5a5-bef5ad3bfdf6"
      },
      "outputs": [
        {
          "output_type": "stream",
          "name": "stdout",
          "text": [
            "[[2, 2, 3], [1, 4, 5], [7, 7, 9], [2, 7, 9], [3, 4, 4]]\n",
            "--- 54596 ms ---\n"
          ]
        }
      ],
      "source": [
        "# Турнирная сортировка.\n",
        "\n",
        "def heapify(mas, n, i):\n",
        "    largest = i # Initialize largest as root\n",
        "    l = 2 * i + 1   # left = 2*i + 1\n",
        "    r = 2 * i + 2   # right = 2*i + 2\n",
        "\n",
        "    if l < n and mas[i] < mas[l]:\n",
        "        largest = l\n",
        "\n",
        "    if r < n and mas[largest] < mas[r]:\n",
        "        largest = r\n",
        "\n",
        "    if largest != i:\n",
        "        mas[i],mas[largest] = mas[largest],mas[i] # свап\n",
        "\n",
        "        heapify(mas, n, largest)\n",
        "\n",
        "def heapSort(mas):\n",
        "    n = len(mas)\n",
        "    for i in range(n, -1, -1):\n",
        "        heapify(mas, n, i)\n",
        "\n",
        "    for i in range(n-1, 0, -1):\n",
        "        mas[i], mas[0] = mas[0], mas[i] # свап \n",
        "        heapify(mas, i, 0)\n",
        "\n",
        "for row in range(len(arrey)):\n",
        "     heapSort(arrey[row])\n",
        "\n",
        "\n",
        "print(arrey)\n",
        "print(\"--- {0} ms ---\".format(round((time.time() - start_time)*1000)))"
      ]
    },
    {
      "cell_type": "markdown",
      "id": "rental-jerusalem",
      "metadata": {
        "id": "rental-jerusalem"
      },
      "source": [
        "### Вывод\n",
        "Вызвали функцию print(), сгенирировали случайную матрицу, отсортировали её различными способами. Проект был загружен на GitHub: https://github.com/Lizz-ok/SeAOD\n"
      ]
    },
    {
      "cell_type": "markdown",
      "id": "9d108a0a",
      "metadata": {
        "id": "9d108a0a"
      },
      "source": []
    }
  ],
  "metadata": {
    "kernelspec": {
      "display_name": "Python 3 (ipykernel)",
      "language": "python",
      "name": "python3"
    },
    "language_info": {
      "codemirror_mode": {
        "name": "ipython",
        "version": 3
      },
      "file_extension": ".py",
      "mimetype": "text/x-python",
      "name": "python",
      "nbconvert_exporter": "python",
      "pygments_lexer": "ipython3",
      "version": "3.10.2"
    },
    "colab": {
      "provenance": []
    }
  },
  "nbformat": 4,
  "nbformat_minor": 5
}