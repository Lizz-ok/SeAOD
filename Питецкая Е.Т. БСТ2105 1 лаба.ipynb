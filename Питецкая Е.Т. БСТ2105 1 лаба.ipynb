{
  "cells": [
    {
      "cell_type": "markdown",
      "id": "fifteen-sailing",
      "metadata": {
        "id": "fifteen-sailing"
      },
      "source": [
        "# Лабораторная работа №1\n",
        "## Выполнил студент группы БСТ2105 Питецкая Елизавета Тимофеевна"
      ]
    },
    {
      "cell_type": "markdown",
      "id": "particular-syndicate",
      "metadata": {
        "id": "particular-syndicate"
      },
      "source": [
        "### Оглавление\n",
        "1. [Задание 1](#Задание-№1)\n",
        "2. [Задание 2](#Задание-№2)\n",
        "3. [Задание 3](#Задание-№3)\n",
        "4. [Вывод](#Вывод)"
      ]
    },
    {
      "cell_type": "markdown",
      "id": "arctic-stocks",
      "metadata": {
        "id": "arctic-stocks"
      },
      "source": [
        "### Задание №1\n",
        "<i> Вызвать функцию print() и передать туда строку Hello, World! </i>"
      ]
    },
    {
      "cell_type": "code",
      "execution_count": null,
      "id": "caring-truck",
      "metadata": {
        "scrolled": true,
        "id": "caring-truck",
        "colab": {
          "base_uri": "https://localhost:8080/"
        },
        "outputId": "9d6bbab7-ccdf-47b7-8284-fe1052551ad2"
      },
      "outputs": [
        {
          "output_type": "stream",
          "name": "stdout",
          "text": [
            "Hello, World!\n"
          ]
        }
      ],
      "source": [
        "print(\"Hello, World!\")"
      ]
    },
    {
      "cell_type": "markdown",
      "id": "maritime-conversation",
      "metadata": {
        "id": "maritime-conversation"
      },
      "source": [
        "### Задание №2\n",
        "Написать генератор случайных матриц(многомерных), который принимает\n",
        "опциональные параметры <b>m</b>, <b>n</b>, <b>min_limit</b>, <b>max_limit</b>, где <b>m</b> и <b>n</b> указывают размер\n",
        "матрицы, а <b>min_lim</b> и <b>max_lim</b> - минимальное и максимальное значение для\n",
        "генерируемого числа."
      ]
    },
    {
      "cell_type": "code",
      "execution_count": null,
      "id": "built-contact",
      "metadata": {
        "id": "built-contact"
      },
      "outputs": [],
      "source": [
        "import random\n",
        "import time"
      ]
    },
    {
      "cell_type": "code",
      "execution_count": null,
      "id": "alert-charm",
      "metadata": {
        "id": "alert-charm",
        "outputId": "f7950f60-9dad-489e-ddee-7e5de6dcbdde",
        "colab": {
          "base_uri": "https://localhost:8080/"
        }
      },
      "outputs": [
        {
          "output_type": "stream",
          "name": "stdout",
          "text": [
            "3\n",
            "5\n",
            "1\n",
            "9\n",
            "[[3, 5, 2], [6, 7, 5], [5, 9, 4], [8, 3, 1], [6, 8, 6]]\n"
          ]
        }
      ],
      "source": [
        "from random import randint\n",
        "user_m = int(input())\n",
        "user_n = int(input())\n",
        "user_min_limit = int(input())\n",
        "user_max_limit = int(input())\n",
        "user_m, user_n, user_min_limit, user_max_limit\n",
        "arrey= [[0 for i in range(user_m)] for j in range(user_n)]\n",
        "for i in range(user_n):\n",
        "    for j in range(user_m):\n",
        "        arrey[i][j] = randint(user_min_limit, user_max_limit)\n",
        "print(arrey)"
      ]
    },
    {
      "cell_type": "markdown",
      "id": "catholic-roots",
      "metadata": {
        "id": "catholic-roots"
      },
      "source": [
        "### Задание №3\n",
        "Реализовать методы сортировки строк числовой матрицы в соответствии с\n",
        "заданием. Оценить время работы каждого алгоритма сортировки и сравнить его со\n",
        "временем стандартной функции сортировки. Испытания проводить на сгенерированных\n",
        "матрицах."
      ]
    },
    {
      "cell_type": "code",
      "execution_count": null,
      "id": "opposed-creature",
      "metadata": {
        "id": "opposed-creature"
      },
      "outputs": [],
      "source": [
        "import copy\n",
        "import random\n",
        "import time"
      ]
    },
    {
      "cell_type": "code",
      "execution_count": null,
      "id": "cleared-anniversary",
      "metadata": {
        "id": "cleared-anniversary",
        "outputId": "08353624-b951-4ac5-a470-04bfa31ac9d3",
        "colab": {
          "base_uri": "https://localhost:8080/"
        }
      },
      "outputs": [
        {
          "output_type": "stream",
          "name": "stdout",
          "text": [
            "3\n",
            "5\n",
            "1\n",
            "9\n",
            "[[5, 7, 7], [5, 2, 4], [9, 2, 8], [4, 7, 5], [8, 9, 2]]\n",
            "[[5, 7, 7], [2, 4, 5], [2, 8, 9], [4, 5, 7], [2, 8, 9]]\n",
            "--- 7330 ms ---\n"
          ]
        }
      ],
      "source": [
        "# Сортировка выбором.\n",
        "# Берётся срез массива, в котором минимальный элемент переносят в самый левый угол,\n",
        "# после чего срез уменьшается и цикл повторяется.\n",
        "import copy\n",
        "import random\n",
        "import time\n",
        "start_time = time.time()\n",
        "#TODO\n",
        "\n",
        "\n",
        "from random import randint\n",
        "user_m = int(input())\n",
        "user_n = int(input())\n",
        "user_min_limit = int(input())\n",
        "user_max_limit = int(input())\n",
        "user_m, user_n, user_min_limit, user_max_limit\n",
        "arrey= [[0 for i in range(user_m)] for j in range(user_n)]\n",
        "for i in range(user_n):\n",
        "    for j in range(user_m):\n",
        "        arrey[i][j] = randint(user_min_limit, user_max_limit)\n",
        "\n",
        "print(arrey)\n",
        "\n",
        "def selection_sort(arrey):\n",
        "    for i in range(len(arrey)):\n",
        "        min = i\n",
        "        for j in range(i + 1, len(arrey)):\n",
        "            if arrey[j] < arrey[min]:\n",
        "                min = j\n",
        "        arrey[min], arrey[i] = arrey[i], arrey[min]\n",
        "    return arrey\n",
        "for row in range(len(arrey)):\n",
        "     selection_sort(arrey[row])\n",
        "print(arrey)\n",
        "\n",
        "print(\"--- {0} ms ---\".format(round((time.time() - start_time)*1000)))"
      ]
    },
    {
      "cell_type": "code",
      "execution_count": null,
      "id": "roman-silly",
      "metadata": {
        "scrolled": true,
        "id": "roman-silly",
        "outputId": "3d0c8038-c7f7-41ee-c2b0-7fe77a48574c",
        "colab": {
          "base_uri": "https://localhost:8080/"
        }
      },
      "outputs": [
        {
          "output_type": "stream",
          "name": "stdout",
          "text": [
            "3\n",
            "5\n",
            "1\n",
            "10\n",
            "[[6, 7, 1], [7, 1, 2], [3, 8, 3], [1, 2, 8], [4, 8, 9]]\n",
            "[[1, 6, 7], [1, 2, 7], [3, 3, 8], [1, 2, 8], [4, 8, 9]]\n",
            "--- 6456 ms ---\n"
          ]
        }
      ],
      "source": [
        "# Сортировка вставкой.\n",
        "import copy\n",
        "import random\n",
        "import time\n",
        "start_time = time.time()\n",
        "\n",
        "from random import randint\n",
        "user_m = int(input())\n",
        "user_n = int(input())\n",
        "user_min_limit = int(input())\n",
        "user_max_limit = int(input())\n",
        "user_m, user_n, user_min_limit, user_max_limit\n",
        "arrey= [[0 for i in range(user_m)] for j in range(user_n)]\n",
        "for i in range(user_n):\n",
        "    for j in range(user_m):\n",
        "        arrey[i][j] = randint(user_min_limit, user_max_limit)\n",
        "\n",
        "print(arrey)\n",
        "\n",
        "def insertion_sort(mas):\n",
        "    for i in range(len(mas)):\n",
        "        cursor = mas[i]\n",
        "        pos = i\n",
        "        while pos > 0 and mas[pos - 1] > cursor:\n",
        "            # Меняем местами число, продвигая по списку\n",
        "            mas[pos] = mas[pos - 1]\n",
        "            pos = pos - 1\n",
        "        # Остановимся и сделаем последний обмен\n",
        "        mas[pos] = cursor\n",
        "    return mas\n",
        "\n",
        "for row in range(len(arrey)):\n",
        "     insertion_sort(arrey[row])\n",
        "\n",
        "print(arrey)\n",
        "\n",
        "#TODO\n",
        "print(\"--- {0} ms ---\".format(round((time.time() - start_time)*1000)))"
      ]
    },
    {
      "cell_type": "code",
      "execution_count": null,
      "id": "vital-implementation",
      "metadata": {
        "id": "vital-implementation",
        "outputId": "be8affc0-a3f3-4b0d-da38-21f71b444b7e",
        "colab": {
          "base_uri": "https://localhost:8080/"
        }
      },
      "outputs": [
        {
          "output_type": "stream",
          "name": "stdout",
          "text": [
            "3\n",
            "5\n",
            "1\n",
            "9\n",
            "[[7, 8, 6], [6, 9, 5], [3, 7, 7], [2, 6, 6], [3, 1, 5]]\n",
            "[[7, 6, 8], [6, 5, 9], [3, 7, 7], [2, 6, 6], [1, 3, 5]]\n",
            "--- 7241 ms ---\n"
          ]
        }
      ],
      "source": [
        "# Сортировка обменом. || Сортировка пузырьком.\n",
        "import copy\n",
        "import random\n",
        "import time\n",
        "start_time = time.time()\n",
        "#TODO\n",
        "\n",
        "from random import randint\n",
        "user_m = int(input())\n",
        "user_n = int(input())\n",
        "user_min_limit = int(input())\n",
        "user_max_limit = int(input())\n",
        "user_m, user_n, user_min_limit, user_max_limit\n",
        "arrey= [[0 for i in range(user_m)] for j in range(user_n)]\n",
        "for i in range(user_n):\n",
        "    for j in range(user_m):\n",
        "        arrey[i][j] = randint(user_min_limit, user_max_limit)\n",
        "\n",
        "print(arrey)\n",
        "\n",
        "def bubble(mas):\n",
        "        for i in range(len(mas) - 1):\n",
        "            if mas[i] > mas[i+1]:\n",
        "                mas[i], mas[i+1] = mas[i+1], mas[i]\n",
        "        return mas\n",
        "\n",
        "for row in range(len(arrey)):\n",
        "     bubble(arrey[row])\n",
        "\n",
        "print(arrey)\n",
        "  \n",
        "print(\"--- {0} ms ---\".format(round((time.time() - start_time)*1000)))"
      ]
    },
    {
      "cell_type": "code",
      "execution_count": 3,
      "id": "veterinary-glory",
      "metadata": {
        "id": "veterinary-glory",
        "outputId": "bde9dd8d-bb55-4b32-878a-e899dc58b3fe",
        "colab": {
          "base_uri": "https://localhost:8080/"
        }
      },
      "outputs": [
        {
          "output_type": "stream",
          "name": "stdout",
          "text": [
            "3\n",
            "5\n",
            "1\n",
            "9\n",
            "[[8, 9, 4], [3, 9, 4], [5, 9, 7], [6, 4, 7], [4, 2, 5]]\n",
            "[[4, 8, 9], [3, 4, 9], [5, 7, 9], [4, 6, 7], [2, 4, 5]]\n",
            "--- 7884 ms ---\n"
          ]
        }
      ],
      "source": [
        "# Сортировка Шелла.\n",
        "import copy\n",
        "import random\n",
        "import time\n",
        "\n",
        "start_time = time.time()\n",
        "#TODO\n",
        "\n",
        "from random import randint\n",
        "user_m = int(input())\n",
        "user_n = int(input())\n",
        "user_min_limit = int(input())\n",
        "user_max_limit = int(input())\n",
        "user_m, user_n, user_min_limit, user_max_limit\n",
        "arrey= [[0 for i in range(user_m)] for j in range(user_n)]\n",
        "for i in range(user_n):\n",
        "    for j in range(user_m):\n",
        "        arrey[i][j] = randint(user_min_limit, user_max_limit)\n",
        "\n",
        "print(arrey)\n",
        "\n",
        "\n",
        "def shell_sort(mas):\n",
        "    gap = len(mas) // 2\n",
        "\n",
        "    while gap > 0:\n",
        "        for value in range(gap, len(mas)):\n",
        "            current_value = mas[value]\n",
        "            position = value\n",
        "\n",
        "            while position >= gap and mas[position - gap] > current_value:\n",
        "                mas[position] = mas[position - gap]\n",
        "                position -= gap\n",
        "                mas[position] = current_value\n",
        "\n",
        "        gap //= 2\n",
        "    return mas\n",
        "for row in range(len(arrey)):\n",
        "     shell_sort(arrey[row])\n",
        "\n",
        "print(arrey)\n",
        "print(\"--- {0} ms ---\".format(round((time.time() - start_time)*1000)))"
      ]
    },
    {
      "cell_type": "code",
      "execution_count": 4,
      "id": "correct-chaos",
      "metadata": {
        "id": "correct-chaos",
        "outputId": "c1fab7dd-5b06-42a6-df7e-868d6f927457",
        "colab": {
          "base_uri": "https://localhost:8080/"
        }
      },
      "outputs": [
        {
          "output_type": "stream",
          "name": "stdout",
          "text": [
            "3\n",
            "5\n",
            "1\n",
            "9\n",
            "[[4, 2, 7], [6, 8, 3], [8, 8, 7], [6, 3, 4], [3, 9, 3]]\n",
            "[[2, 4, 7], [3, 6, 8], [7, 8, 8], [3, 4, 6], [3, 3, 9]]\n",
            "--- 6704 ms ---\n"
          ]
        }
      ],
      "source": [
        "# Быстрая сортировка.\n",
        "import copy\n",
        "import random\n",
        "import time\n",
        "start_time = time.time()\n",
        "#TODO\n",
        "\n",
        "from random import randint\n",
        "user_m = int(input())\n",
        "user_n = int(input())\n",
        "user_min_limit = int(input())\n",
        "user_max_limit = int(input())\n",
        "user_m, user_n, user_min_limit, user_max_limit\n",
        "arrey= [[0 for i in range(user_m)] for j in range(user_n)]\n",
        "for i in range(user_n):\n",
        "    for j in range(user_m):\n",
        "        arrey[i][j] = randint(user_min_limit, user_max_limit)\n",
        "\n",
        "print(arrey)\n",
        "\n",
        "\n",
        "\n",
        "def quick_sort(mas):\n",
        "    quick_sort_helper(mas, 0, len(mas) - 1)\n",
        "    return mas\n",
        "\n",
        "\n",
        "def quick_sort_helper(mas, low, high):\n",
        "    if low < high:\n",
        "        split_point = partition(mas, low, high)\n",
        "        quick_sort_helper(mas, low, split_point - 1)\n",
        "        quick_sort_helper(mas, split_point + 1, high)\n",
        "\n",
        "\n",
        "def partition(mas, low, high):\n",
        "    pivot_value = mas[low]\n",
        "    left_mark = low + 1\n",
        "    right_mark = high\n",
        "    done = False\n",
        "\n",
        "    while not done:\n",
        "        while left_mark <= right_mark and mas[left_mark] <= pivot_value:\n",
        "            left_mark += 1\n",
        "        while right_mark >= left_mark and mas[right_mark] >= pivot_value:\n",
        "            right_mark -= 1\n",
        "\n",
        "        if right_mark < left_mark:\n",
        "            done = True\n",
        "        else:\n",
        "            mas[left_mark], mas[right_mark] = mas[right_mark], mas[left_mark]\n",
        "\n",
        "    mas[low], mas[right_mark] = mas[right_mark], mas[low]\n",
        "    return right_mark\n",
        "for row in range(len(arrey)):\n",
        "     quick_sort(arrey[row])\n",
        "\n",
        "print(arrey)\n",
        "print(\"--- {0} ms ---\".format(round((time.time() - start_time)*1000)))\n",
        "    "
      ]
    },
    {
      "cell_type": "code",
      "execution_count": 5,
      "id": "french-czech",
      "metadata": {
        "colab": {
          "base_uri": "https://localhost:8080/"
        },
        "id": "french-czech",
        "outputId": "13a6bc95-361c-47f7-90e2-8dda47e79a8b"
      },
      "outputs": [
        {
          "output_type": "stream",
          "name": "stdout",
          "text": [
            "3\n",
            "5\n",
            "1\n",
            "9\n",
            "[[4, 2, 8], [6, 7, 1], [2, 1, 6], [1, 2, 9], [5, 3, 3]]\n",
            "[[2, 4, 8], [1, 6, 7], [1, 2, 6], [1, 2, 9], [3, 3, 5]]\n",
            "--- 7821 ms ---\n"
          ]
        }
      ],
      "source": [
        "# Турнирная сортировка.\n",
        "import copy\n",
        "import random\n",
        "import time\n",
        "start_time = time.time()\n",
        "#TODO\n",
        "from random import randint\n",
        "user_m = int(input())\n",
        "user_n = int(input())\n",
        "user_min_limit = int(input())\n",
        "user_max_limit = int(input())\n",
        "user_m, user_n, user_min_limit, user_max_limit\n",
        "arrey= [[0 for i in range(user_m)] for j in range(user_n)]\n",
        "for i in range(user_n):\n",
        "    for j in range(user_m):\n",
        "        arrey[i][j] = randint(user_min_limit, user_max_limit)\n",
        "\n",
        "print(arrey)\n",
        "\n",
        "def heapify(mas, n, i):\n",
        "    largest = i # Initialize largest as root\n",
        "    l = 2 * i + 1   # left = 2*i + 1\n",
        "    r = 2 * i + 2   # right = 2*i + 2\n",
        "\n",
        "    if l < n and mas[i] < mas[l]:\n",
        "        largest = l\n",
        "\n",
        "    if r < n and mas[largest] < mas[r]:\n",
        "        largest = r\n",
        "\n",
        "    if largest != i:\n",
        "        mas[i],mas[largest] = mas[largest],mas[i] # свап\n",
        "\n",
        "        heapify(mas, n, largest)\n",
        "\n",
        "def heapSort(mas):\n",
        "    n = len(mas)\n",
        "    for i in range(n, -1, -1):\n",
        "        heapify(mas, n, i)\n",
        "\n",
        "    for i in range(n-1, 0, -1):\n",
        "        mas[i], mas[0] = mas[0], mas[i] # свап \n",
        "        heapify(mas, i, 0)\n",
        "\n",
        "for row in range(len(arrey)):\n",
        "     heapSort(arrey[row])\n",
        "\n",
        "\n",
        "print(arrey)\n",
        "print(\"--- {0} ms ---\".format(round((time.time() - start_time)*1000)))"
      ]
    },
    {
      "cell_type": "markdown",
      "id": "rental-jerusalem",
      "metadata": {
        "id": "rental-jerusalem"
      },
      "source": [
        "### Вывод\n",
        "Вызвали функцию print(), сгенирировали случайную матрицу, отсортировали её различными способами. Проект был загружен на GitHub: https://github.com/Lizz-ok/SeAOD\n"
      ]
    },
    {
      "cell_type": "markdown",
      "id": "9d108a0a",
      "metadata": {
        "id": "9d108a0a"
      },
      "source": []
    }
  ],
  "metadata": {
    "kernelspec": {
      "display_name": "Python 3 (ipykernel)",
      "language": "python",
      "name": "python3"
    },
    "language_info": {
      "codemirror_mode": {
        "name": "ipython",
        "version": 3
      },
      "file_extension": ".py",
      "mimetype": "text/x-python",
      "name": "python",
      "nbconvert_exporter": "python",
      "pygments_lexer": "ipython3",
      "version": "3.10.2"
    },
    "colab": {
      "provenance": []
    }
  },
  "nbformat": 4,
  "nbformat_minor": 5
}